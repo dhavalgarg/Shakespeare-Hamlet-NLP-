{
 "cells": [
  {
   "cell_type": "code",
   "execution_count": 15,
   "metadata": {},
   "outputs": [],
   "source": [
    "import nltk\n",
    "from nltk.probability import FreqDist\n",
    "from nltk.corpus import stopwords\n",
    "\n"
   ]
  },
  {
   "cell_type": "code",
   "execution_count": 6,
   "metadata": {},
   "outputs": [],
   "source": [
    "stop_words=set(stopwords.words('english'))"
   ]
  },
  {
   "cell_type": "code",
   "execution_count": 9,
   "metadata": {},
   "outputs": [],
   "source": [
    "words=nltk.Text(nltk.corpus.gutenberg.words('shakespeare-hamlet.txt'))###to read the corpus"
   ]
  },
  {
   "cell_type": "code",
   "execution_count": 10,
   "metadata": {},
   "outputs": [],
   "source": [
    "words=[word.lower() for word in words if word.isalpha()]\n",
    "words=[word.lower() for word in words if word not in stop_words]"
   ]
  },
  {
   "cell_type": "code",
   "execution_count": 11,
   "metadata": {},
   "outputs": [],
   "source": [
    "fDist=FreqDist(words)"
   ]
  },
  {
   "cell_type": "code",
   "execution_count": 12,
   "metadata": {},
   "outputs": [
    {
     "name": "stdout",
     "output_type": "stream",
     "text": [
      "ham 337\n",
      "lord 211\n",
      "haue 178\n",
      "king 172\n",
      "thou 107\n",
      "shall 107\n",
      "come 104\n",
      "let 104\n",
      "hamlet 100\n",
      "good 98\n"
     ]
    }
   ],
   "source": [
    "for a,b in fDist.most_common(10):\n",
    "    print(a,b)"
   ]
  },
  {
   "cell_type": "code",
   "execution_count": 13,
   "metadata": {},
   "outputs": [
    {
     "name": "stdout",
     "output_type": "stream",
     "text": [
      "ham 0.07342047930283224\n",
      "lord 0.04596949891067538\n",
      "haue 0.038779956427015254\n",
      "king 0.03747276688453159\n",
      "thou 0.023311546840958607\n",
      "shall 0.023311546840958607\n",
      "come 0.022657952069716776\n",
      "let 0.022657952069716776\n",
      "hamlet 0.02178649237472767\n",
      "good 0.021350762527233117\n"
     ]
    }
   ],
   "source": [
    "### now in comparison to total length\n",
    "for a,b in fDist.most_common(10):\n",
    "    print(a,b/len(fDist))"
   ]
  },
  {
   "cell_type": "code",
   "execution_count": null,
   "metadata": {},
   "outputs": [],
   "source": []
  }
 ],
 "metadata": {
  "kernelspec": {
   "display_name": "Python 3",
   "language": "python",
   "name": "python3"
  },
  "language_info": {
   "codemirror_mode": {
    "name": "ipython",
    "version": 3
   },
   "file_extension": ".py",
   "mimetype": "text/x-python",
   "name": "python",
   "nbconvert_exporter": "python",
   "pygments_lexer": "ipython3",
   "version": "3.7.4"
  }
 },
 "nbformat": 4,
 "nbformat_minor": 2
}
